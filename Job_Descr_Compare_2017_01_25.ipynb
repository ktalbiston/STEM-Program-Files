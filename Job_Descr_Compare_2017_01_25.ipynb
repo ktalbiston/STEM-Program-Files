{
 "cells": [
  {
   "cell_type": "markdown",
   "metadata": {},
   "source": [
    "# .csv Analysis\n",
    "\n",
    "## Task\n",
    "\n",
    "Write a Python script to compare the JobDescriptionExtract and JobDescriptionFile to be sure all the data are the same except that the JobDescriptionFile has a composite ID in the first column.  Just to be sure my program (in Github folder) didn’t mess up the data."
   ]
  },
  {
   "cell_type": "markdown",
   "metadata": {},
   "source": [
    "## Short Answer\n",
    "There are no differences between the two files."
   ]
  },
  {
   "cell_type": "markdown",
   "metadata": {},
   "source": [
    "## Gross Examination\n",
    "\n",
    "- JobsDescriptionsFile has 1290 rows, plus one header row\n",
    "- JobDescriptionExtract also has 1290 rows, plus one header row\n",
    "- JobDescriptionsFile has one extra column\n",
    "\n",
    "NOTE: ENCODED IN ISO-8859-1!"
   ]
  },
  {
   "cell_type": "code",
   "execution_count": null,
   "metadata": {
    "collapsed": false
   },
   "outputs": [],
   "source": [
    "import os\n",
    "import csv\n",
    "\n",
    "# create empty lists to hold rows from csv files\n",
    "\n",
    "descr_extract = []\n",
    "descr_file = []\n",
    "\n",
    "# read in the extract file, which has no index\n",
    "\n",
    "with open(\"../data/JobDescriptionExtract.csv\", \"r\", encoding = \"iso-8859-1\") as csvfile_1:\n",
    "    csv_read_1 = csv.reader(csvfile_1)\n",
    "    for row in csv_read_1:\n",
    "          descr_extract.append(row)\n",
    "      \n",
    "# read in the descriptions file, which has an index\n",
    "\n",
    "with open(\"../data/JobDescriptionsFile.csv\", \"r\", encoding = \"iso-8859-1\") as csvfile_2:\n",
    "    csv_read_2 = csv.reader(csvfile_2)\n",
    "    for row in csv_read_2:\n",
    "        descr_file.append(row)\n",
    "        \n",
    "# remove index from descriptions file\n",
    "\n",
    "descr_file_noindex = []\n",
    "for i in descr_file:\n",
    "    descr_file_noindex.append(i[1:])\n",
    "\n",
    "# compare each list item\n",
    "\n",
    "row_count = 0\n",
    "diff_lines = []\n",
    "same_lines = []\n",
    "\n",
    "for row in descr_extract:\n",
    "    if row == descr_file_noindex[row_count]:\n",
    "        same_lines.append(row_count+1)\n",
    "    else:\n",
    "        diff_lines.append(row_count+1)\n",
    "    row_count = row_count + 1\n",
    "\n",
    "# display results    \n",
    "    \n",
    "print(\"The dissimilar lines are (total:\", len(diff_lines), \"):\")\n",
    "print(diff_lines)\n",
    "\n",
    "print(\"The similar lines are (total:\", len(same_lines), \"):\")\n",
    "print(same_lines)\n"
   ]
  },
  {
   "cell_type": "code",
   "execution_count": null,
   "metadata": {
    "collapsed": false
   },
   "outputs": [],
   "source": [
    "# As a quick sanity check, I created a file called JobDescrFile_colAdel.csv.\n",
    "# I dropped the identifier column and saved it in UTF-8 encoding.\n",
    "# I also created a UTF-8-encoded copy of JobDescriptionExtract.\n",
    "# The script below runs the diff command at the shell to check for differences between the files.\n",
    "# The lack of output is a good thing - it means there were no differences identified.\n",
    "\n",
    "!diff -q ../data/JobDescriptionExtract_copy.csv ../data/JobDescrFile_colAdel.csv > ../data/comparison.txt\n",
    "!cat ../data/comparison.txt"
   ]
  },
  {
   "cell_type": "code",
   "execution_count": null,
   "metadata": {
    "collapsed": false
   },
   "outputs": [],
   "source": [
    "# pandas solution doing column-by-column comparison\n",
    "\n",
    "import pandas\n",
    "\n",
    "original_file = pandas.read_csv(\"../data/JobDescriptionExtract.csv\", header = 0, encoding = \"iso-8859-1\")\n",
    "addedid_file = pandas.read_csv(\"../data/JobDescriptionsFile.csv\", header = 0, encoding = \"iso-8859-1\")\n",
    "\n",
    "column_list = list(addedid_file) # generate list of column headers\n",
    "\n",
    "# loop through each column, starting after CASE_ID\n",
    "\n",
    "for column in range(1, len(column_list)):\n",
    "\n",
    "    col_hdg = column_list[column] # get column heading string\n",
    "    if addedid_file[col_hdg].equals(original_file[col_hdg]) == True: # look for identical columns\n",
    "        print(\"Column\", col_hdg, \"is the same.\")\n",
    "    else:\n",
    "        print(\"Column\", col_hdg, \"is different.\")\n"
   ]
  }
 ],
 "metadata": {
  "anaconda-cloud": {},
  "kernelspec": {
   "display_name": "Python [default]",
   "language": "python",
   "name": "python3"
  },
  "language_info": {
   "codemirror_mode": {
    "name": "ipython",
    "version": 3
   },
   "file_extension": ".py",
   "mimetype": "text/x-python",
   "name": "python",
   "nbconvert_exporter": "python",
   "pygments_lexer": "ipython3",
   "version": "3.5.2"
  }
 },
 "nbformat": 4,
 "nbformat_minor": 1
}
